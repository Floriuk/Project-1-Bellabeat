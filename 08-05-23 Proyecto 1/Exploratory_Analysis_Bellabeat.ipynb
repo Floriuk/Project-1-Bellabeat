{
 "cells": [
  {
   "cell_type": "code",
   "execution_count": 355,
   "id": "87a3e914",
   "metadata": {},
   "outputs": [],
   "source": [
    "import pandas as pd\n",
    "import matplotlib.pyplot as plt\n",
    "import seaborn as sns"
   ]
  },
  {
   "cell_type": "code",
   "execution_count": 356,
   "id": "897f7c33",
   "metadata": {},
   "outputs": [],
   "source": [
    "df1 = pd.read_csv('./datasets/dailyActivity_merged.csv')\n",
    "df2 = pd.read_csv('./datasets/dailyCalories_merged.csv')\n",
    "df3 = pd.read_csv('./datasets/dailyIntensities_merged.csv')\n",
    "df4 = pd.read_csv('./datasets/dailySteps_merged.csv')\n",
    "df5 = pd.read_csv('./datasets/hourlyCalories_merged.csv')\n",
    "df6 = pd.read_csv('./datasets/hourlyIntensities_merged.csv')\n",
    "df7 = pd.read_csv('./datasets/hourlySteps_merged.csv')\n",
    "df8 = pd.read_csv('./datasets/sleepDay_merged.csv')\n",
    "df9 = pd.read_csv('./datasets/weightLogInfo_merged.csv')"
   ]
  },
  {
   "cell_type": "code",
   "execution_count": 357,
   "id": "8c03349b",
   "metadata": {},
   "outputs": [
    {
     "data": {
      "text/plain": [
       "Index(['Id', 'ActivityDate', 'TotalSteps', 'TotalDistance', 'TrackerDistance',\n",
       "       'LoggedActivitiesDistance', 'VeryActiveDistance',\n",
       "       'ModeratelyActiveDistance', 'LightActiveDistance',\n",
       "       'SedentaryActiveDistance', 'VeryActiveMinutes', 'FairlyActiveMinutes',\n",
       "       'LightlyActiveMinutes', 'SedentaryMinutes', 'Calories'],\n",
       "      dtype='object')"
      ]
     },
     "execution_count": 357,
     "metadata": {},
     "output_type": "execute_result"
    }
   ],
   "source": [
    "df1.columns"
   ]
  },
  {
   "cell_type": "code",
   "execution_count": 358,
   "id": "333d6758",
   "metadata": {},
   "outputs": [
    {
     "data": {
      "text/plain": [
       "Index(['Id', 'ActivityDay', 'Calories'], dtype='object')"
      ]
     },
     "execution_count": 358,
     "metadata": {},
     "output_type": "execute_result"
    }
   ],
   "source": [
    "df2.columns"
   ]
  },
  {
   "cell_type": "code",
   "execution_count": 359,
   "id": "c38ccc43",
   "metadata": {
    "scrolled": true
   },
   "outputs": [
    {
     "data": {
      "text/plain": [
       "Index(['Id', 'ActivityDay', 'SedentaryMinutes', 'LightlyActiveMinutes',\n",
       "       'FairlyActiveMinutes', 'VeryActiveMinutes', 'SedentaryActiveDistance',\n",
       "       'LightActiveDistance', 'ModeratelyActiveDistance',\n",
       "       'VeryActiveDistance'],\n",
       "      dtype='object')"
      ]
     },
     "execution_count": 359,
     "metadata": {},
     "output_type": "execute_result"
    }
   ],
   "source": [
    "df3.columns"
   ]
  },
  {
   "cell_type": "code",
   "execution_count": 360,
   "id": "082f9049",
   "metadata": {},
   "outputs": [
    {
     "data": {
      "text/plain": [
       "Index(['Id', 'ActivityDay', 'StepTotal'], dtype='object')"
      ]
     },
     "execution_count": 360,
     "metadata": {},
     "output_type": "execute_result"
    }
   ],
   "source": [
    "df4.columns"
   ]
  },
  {
   "cell_type": "code",
   "execution_count": 361,
   "id": "7c3bc629",
   "metadata": {},
   "outputs": [
    {
     "data": {
      "text/plain": [
       "Index(['Id', 'ActivityHour', 'Calories'], dtype='object')"
      ]
     },
     "execution_count": 361,
     "metadata": {},
     "output_type": "execute_result"
    }
   ],
   "source": [
    "df5.columns"
   ]
  },
  {
   "cell_type": "code",
   "execution_count": 362,
   "id": "4d7ec505",
   "metadata": {},
   "outputs": [
    {
     "data": {
      "text/plain": [
       "Index(['Id', 'ActivityHour', 'TotalIntensity', 'AverageIntensity'], dtype='object')"
      ]
     },
     "execution_count": 362,
     "metadata": {},
     "output_type": "execute_result"
    }
   ],
   "source": [
    "df6.columns"
   ]
  },
  {
   "cell_type": "code",
   "execution_count": 363,
   "id": "4226b53f",
   "metadata": {},
   "outputs": [
    {
     "data": {
      "text/plain": [
       "Index(['Id', 'ActivityHour', 'StepTotal'], dtype='object')"
      ]
     },
     "execution_count": 363,
     "metadata": {},
     "output_type": "execute_result"
    }
   ],
   "source": [
    "df7.columns"
   ]
  },
  {
   "cell_type": "code",
   "execution_count": 364,
   "id": "44648ee2",
   "metadata": {
    "scrolled": true
   },
   "outputs": [
    {
     "data": {
      "text/plain": [
       "Index(['Id', 'SleepDay', 'TotalSleepRecords', 'TotalMinutesAsleep',\n",
       "       'TotalTimeInBed'],\n",
       "      dtype='object')"
      ]
     },
     "execution_count": 364,
     "metadata": {},
     "output_type": "execute_result"
    }
   ],
   "source": [
    "df8.columns"
   ]
  },
  {
   "cell_type": "code",
   "execution_count": 365,
   "id": "4fe62ab6",
   "metadata": {},
   "outputs": [
    {
     "data": {
      "text/plain": [
       "Index(['Id', 'Date', 'WeightKg', 'WeightPounds', 'Fat', 'BMI',\n",
       "       'IsManualReport', 'LogId'],\n",
       "      dtype='object')"
      ]
     },
     "execution_count": 365,
     "metadata": {},
     "output_type": "execute_result"
    }
   ],
   "source": [
    "df9.columns"
   ]
  },
  {
   "cell_type": "code",
   "execution_count": 366,
   "id": "734f96c7",
   "metadata": {},
   "outputs": [
    {
     "name": "stdout",
     "output_type": "stream",
     "text": [
      "<class 'pandas.core.frame.DataFrame'>\n",
      "RangeIndex: 940 entries, 0 to 939\n",
      "Data columns (total 15 columns):\n",
      " #   Column                    Non-Null Count  Dtype  \n",
      "---  ------                    --------------  -----  \n",
      " 0   Id                        940 non-null    int64  \n",
      " 1   ActivityDate              940 non-null    object \n",
      " 2   TotalSteps                940 non-null    int64  \n",
      " 3   TotalDistance             940 non-null    float64\n",
      " 4   TrackerDistance           940 non-null    float64\n",
      " 5   LoggedActivitiesDistance  940 non-null    float64\n",
      " 6   VeryActiveDistance        940 non-null    float64\n",
      " 7   ModeratelyActiveDistance  940 non-null    float64\n",
      " 8   LightActiveDistance       940 non-null    float64\n",
      " 9   SedentaryActiveDistance   940 non-null    float64\n",
      " 10  VeryActiveMinutes         940 non-null    int64  \n",
      " 11  FairlyActiveMinutes       940 non-null    int64  \n",
      " 12  LightlyActiveMinutes      940 non-null    int64  \n",
      " 13  SedentaryMinutes          940 non-null    int64  \n",
      " 14  Calories                  940 non-null    int64  \n",
      "dtypes: float64(7), int64(7), object(1)\n",
      "memory usage: 110.3+ KB\n"
     ]
    }
   ],
   "source": [
    "df1.info()"
   ]
  },
  {
   "cell_type": "code",
   "execution_count": 367,
   "id": "ae7a0253",
   "metadata": {},
   "outputs": [
    {
     "name": "stdout",
     "output_type": "stream",
     "text": [
      "<class 'pandas.core.frame.DataFrame'>\n",
      "RangeIndex: 940 entries, 0 to 939\n",
      "Data columns (total 3 columns):\n",
      " #   Column       Non-Null Count  Dtype \n",
      "---  ------       --------------  ----- \n",
      " 0   Id           940 non-null    int64 \n",
      " 1   ActivityDay  940 non-null    object\n",
      " 2   Calories     940 non-null    int64 \n",
      "dtypes: int64(2), object(1)\n",
      "memory usage: 22.2+ KB\n"
     ]
    }
   ],
   "source": [
    "df2.info()"
   ]
  },
  {
   "cell_type": "code",
   "execution_count": 368,
   "id": "a84ccf7a",
   "metadata": {},
   "outputs": [
    {
     "name": "stdout",
     "output_type": "stream",
     "text": [
      "<class 'pandas.core.frame.DataFrame'>\n",
      "RangeIndex: 940 entries, 0 to 939\n",
      "Data columns (total 10 columns):\n",
      " #   Column                    Non-Null Count  Dtype  \n",
      "---  ------                    --------------  -----  \n",
      " 0   Id                        940 non-null    int64  \n",
      " 1   ActivityDay               940 non-null    object \n",
      " 2   SedentaryMinutes          940 non-null    int64  \n",
      " 3   LightlyActiveMinutes      940 non-null    int64  \n",
      " 4   FairlyActiveMinutes       940 non-null    int64  \n",
      " 5   VeryActiveMinutes         940 non-null    int64  \n",
      " 6   SedentaryActiveDistance   940 non-null    float64\n",
      " 7   LightActiveDistance       940 non-null    float64\n",
      " 8   ModeratelyActiveDistance  940 non-null    float64\n",
      " 9   VeryActiveDistance        940 non-null    float64\n",
      "dtypes: float64(4), int64(5), object(1)\n",
      "memory usage: 73.6+ KB\n"
     ]
    }
   ],
   "source": [
    "df3.info()"
   ]
  },
  {
   "cell_type": "code",
   "execution_count": 369,
   "id": "6e172234",
   "metadata": {},
   "outputs": [
    {
     "name": "stdout",
     "output_type": "stream",
     "text": [
      "<class 'pandas.core.frame.DataFrame'>\n",
      "RangeIndex: 940 entries, 0 to 939\n",
      "Data columns (total 3 columns):\n",
      " #   Column       Non-Null Count  Dtype \n",
      "---  ------       --------------  ----- \n",
      " 0   Id           940 non-null    int64 \n",
      " 1   ActivityDay  940 non-null    object\n",
      " 2   StepTotal    940 non-null    int64 \n",
      "dtypes: int64(2), object(1)\n",
      "memory usage: 22.2+ KB\n"
     ]
    }
   ],
   "source": [
    "df4.info()"
   ]
  },
  {
   "cell_type": "code",
   "execution_count": 370,
   "id": "dce41619",
   "metadata": {},
   "outputs": [
    {
     "name": "stdout",
     "output_type": "stream",
     "text": [
      "<class 'pandas.core.frame.DataFrame'>\n",
      "RangeIndex: 22099 entries, 0 to 22098\n",
      "Data columns (total 3 columns):\n",
      " #   Column        Non-Null Count  Dtype \n",
      "---  ------        --------------  ----- \n",
      " 0   Id            22099 non-null  int64 \n",
      " 1   ActivityHour  22099 non-null  object\n",
      " 2   Calories      22099 non-null  int64 \n",
      "dtypes: int64(2), object(1)\n",
      "memory usage: 518.1+ KB\n"
     ]
    }
   ],
   "source": [
    "df5.info()"
   ]
  },
  {
   "cell_type": "code",
   "execution_count": 371,
   "id": "8f9c001f",
   "metadata": {
    "scrolled": true
   },
   "outputs": [
    {
     "name": "stdout",
     "output_type": "stream",
     "text": [
      "<class 'pandas.core.frame.DataFrame'>\n",
      "RangeIndex: 22099 entries, 0 to 22098\n",
      "Data columns (total 4 columns):\n",
      " #   Column            Non-Null Count  Dtype  \n",
      "---  ------            --------------  -----  \n",
      " 0   Id                22099 non-null  int64  \n",
      " 1   ActivityHour      22099 non-null  object \n",
      " 2   TotalIntensity    22099 non-null  int64  \n",
      " 3   AverageIntensity  22099 non-null  float64\n",
      "dtypes: float64(1), int64(2), object(1)\n",
      "memory usage: 690.7+ KB\n"
     ]
    }
   ],
   "source": [
    "df6.info()"
   ]
  },
  {
   "cell_type": "code",
   "execution_count": 372,
   "id": "5dea977a",
   "metadata": {},
   "outputs": [
    {
     "name": "stdout",
     "output_type": "stream",
     "text": [
      "<class 'pandas.core.frame.DataFrame'>\n",
      "RangeIndex: 22099 entries, 0 to 22098\n",
      "Data columns (total 3 columns):\n",
      " #   Column        Non-Null Count  Dtype \n",
      "---  ------        --------------  ----- \n",
      " 0   Id            22099 non-null  int64 \n",
      " 1   ActivityHour  22099 non-null  object\n",
      " 2   StepTotal     22099 non-null  int64 \n",
      "dtypes: int64(2), object(1)\n",
      "memory usage: 518.1+ KB\n"
     ]
    }
   ],
   "source": [
    "df7.info()"
   ]
  },
  {
   "cell_type": "code",
   "execution_count": 373,
   "id": "939f58fe",
   "metadata": {},
   "outputs": [
    {
     "name": "stdout",
     "output_type": "stream",
     "text": [
      "<class 'pandas.core.frame.DataFrame'>\n",
      "RangeIndex: 413 entries, 0 to 412\n",
      "Data columns (total 5 columns):\n",
      " #   Column              Non-Null Count  Dtype \n",
      "---  ------              --------------  ----- \n",
      " 0   Id                  413 non-null    int64 \n",
      " 1   SleepDay            413 non-null    object\n",
      " 2   TotalSleepRecords   413 non-null    int64 \n",
      " 3   TotalMinutesAsleep  413 non-null    int64 \n",
      " 4   TotalTimeInBed      413 non-null    int64 \n",
      "dtypes: int64(4), object(1)\n",
      "memory usage: 16.3+ KB\n"
     ]
    }
   ],
   "source": [
    "df8.info()"
   ]
  },
  {
   "cell_type": "code",
   "execution_count": 374,
   "id": "609c36fe",
   "metadata": {},
   "outputs": [
    {
     "name": "stdout",
     "output_type": "stream",
     "text": [
      "<class 'pandas.core.frame.DataFrame'>\n",
      "RangeIndex: 67 entries, 0 to 66\n",
      "Data columns (total 8 columns):\n",
      " #   Column          Non-Null Count  Dtype  \n",
      "---  ------          --------------  -----  \n",
      " 0   Id              67 non-null     int64  \n",
      " 1   Date            67 non-null     object \n",
      " 2   WeightKg        67 non-null     float64\n",
      " 3   WeightPounds    67 non-null     float64\n",
      " 4   Fat             2 non-null      float64\n",
      " 5   BMI             67 non-null     float64\n",
      " 6   IsManualReport  67 non-null     bool   \n",
      " 7   LogId           67 non-null     int64  \n",
      "dtypes: bool(1), float64(4), int64(2), object(1)\n",
      "memory usage: 3.9+ KB\n"
     ]
    }
   ],
   "source": [
    "df9.info()"
   ]
  },
  {
   "cell_type": "markdown",
   "id": "fecb6897",
   "metadata": {},
   "source": [
    "### df1 content:\n",
    "- For each user ID activity variables as Distance, Steps, Time and calories are segmented for Active, very active and moderately active users"
   ]
  },
  {
   "cell_type": "markdown",
   "id": "fdc297eb",
   "metadata": {},
   "source": [
    "### df2 content:\n",
    "- Contains 3 columns: Activity and calories per day per user"
   ]
  },
  {
   "cell_type": "markdown",
   "id": "6a27ec85",
   "metadata": {},
   "source": [
    "### df 3 contains:\n",
    "- Amounts of activity per user\n",
    "- 4 types of activities:\n",
    "    - Fairly active\n",
    "    - Sedentary Active\n",
    "    - Lightly Active\n",
    "    - Very Active\n",
    "- 4 types of distance:\n",
    "    - Sedentary Active Distance\n",
    "    - Light Active Distance\n",
    "    - Moderately Active Distance\n",
    "    - Very Active Distance"
   ]
  },
  {
   "cell_type": "markdown",
   "id": "398255df",
   "metadata": {},
   "source": [
    "### df 4 contains:\n",
    "- Steps per day"
   ]
  },
  {
   "cell_type": "markdown",
   "id": "f208b281",
   "metadata": {},
   "source": [
    "### df 5 contains:\n",
    "- Calories per hour"
   ]
  },
  {
   "cell_type": "markdown",
   "id": "080d8eb8",
   "metadata": {},
   "source": [
    "### df 6 contains:\n",
    "- Total and Average Intensity per hour"
   ]
  },
  {
   "cell_type": "markdown",
   "id": "bd0ae365",
   "metadata": {},
   "source": [
    "### df 7 contains:\n",
    "- Total Steps per hour"
   ]
  },
  {
   "cell_type": "markdown",
   "id": "0f3bd423",
   "metadata": {},
   "source": [
    "### df 8 contains:\n",
    "- Sleep records, Total time asleep, and Total time in bed"
   ]
  },
  {
   "cell_type": "markdown",
   "id": "2b63b592",
   "metadata": {},
   "source": [
    "### df 9 contains:\n",
    "- Weight (kg) and (pounds)\n",
    "- Fat\n",
    "- BMI"
   ]
  },
  {
   "cell_type": "code",
   "execution_count": 375,
   "id": "b2e6fc7f",
   "metadata": {},
   "outputs": [
    {
     "data": {
      "text/plain": [
       "(67, 8)"
      ]
     },
     "execution_count": 375,
     "metadata": {},
     "output_type": "execute_result"
    }
   ],
   "source": [
    "df9.shape"
   ]
  },
  {
   "cell_type": "code",
   "execution_count": 376,
   "id": "651936cf",
   "metadata": {},
   "outputs": [],
   "source": [
    "#df10, filters very active users, comes from df1\n",
    "#df10 merged with df8 based on ID"
   ]
  },
  {
   "cell_type": "code",
   "execution_count": 377,
   "id": "c69e25e9",
   "metadata": {},
   "outputs": [],
   "source": [
    "df1_active_users = df1[df1.TotalSteps >10727]"
   ]
  },
  {
   "cell_type": "code",
   "execution_count": 378,
   "id": "f9df3b02",
   "metadata": {},
   "outputs": [],
   "source": [
    "df1_active_users = df1_active_users[['Id','TotalSteps','ActivityDate']]"
   ]
  },
  {
   "cell_type": "code",
   "execution_count": 379,
   "id": "02e1987e",
   "metadata": {},
   "outputs": [],
   "source": [
    "df1_active_users = df1_active_users[['Id','TotalSteps','ActivityDate']]"
   ]
  },
  {
   "cell_type": "code",
   "execution_count": null,
   "id": "f9162c29",
   "metadata": {},
   "outputs": [],
   "source": []
  },
  {
   "cell_type": "code",
   "execution_count": 380,
   "id": "26022dbd",
   "metadata": {},
   "outputs": [],
   "source": [
    "\n",
    "\n",
    "\n",
    "# Convert date column to datetime format\n",
    "#df1_active_users['ActivityDate'] = pd.to_datetime(df1_active_users['ActivityDate'], format='%m/%d/%Y')\n",
    "\n",
    "# Convert date column to same format as df8\n",
    "#df1_active_users['ActivityDate'] = df1_active_users['ActivityDate'].dt.strftime('%m/%d/%Y %I:%M:%S %p')\n",
    "\n",
    "\n",
    "#df1_active_users = df1_active_users.rename(columns={'ActivityDate': 'Date'})\n",
    "df8['SleepDay'] = pd.to_datetime(df8['SleepDay']).dt.strftime('%m/%d/%Y')\n",
    "df1_active_users['ActivityDate'] = pd.to_datetime(df1_active_users['ActivityDate']).dt.strftime('%m/%d/%Y')\n",
    "df8 = df8.rename(columns={'SleepDay': 'Date'})\n",
    "df1_active_users = df1_active_users.rename(columns={'ActivityDate': 'Date'})\n"
   ]
  },
  {
   "cell_type": "code",
   "execution_count": 381,
   "id": "adfdf027",
   "metadata": {},
   "outputs": [
    {
     "data": {
      "text/plain": [
       "Index(['Id', 'TotalSteps', 'Date'], dtype='object')"
      ]
     },
     "execution_count": 381,
     "metadata": {},
     "output_type": "execute_result"
    }
   ],
   "source": [
    "df1_active_users.columns"
   ]
  },
  {
   "cell_type": "code",
   "execution_count": 382,
   "id": "e7daf078",
   "metadata": {},
   "outputs": [
    {
     "data": {
      "text/plain": [
       "Index(['Id', 'Date', 'TotalSleepRecords', 'TotalMinutesAsleep',\n",
       "       'TotalTimeInBed'],\n",
       "      dtype='object')"
      ]
     },
     "execution_count": 382,
     "metadata": {},
     "output_type": "execute_result"
    }
   ],
   "source": [
    "df8.columns"
   ]
  },
  {
   "cell_type": "code",
   "execution_count": 383,
   "id": "e46a00b8",
   "metadata": {},
   "outputs": [],
   "source": [
    "relationship_steps_sleep = pd.merge(df1_active_users,df8, on=(['Id','Date']), how = 'left')\n"
   ]
  },
  {
   "cell_type": "code",
   "execution_count": 384,
   "id": "26315066",
   "metadata": {},
   "outputs": [
    {
     "data": {
      "text/plain": [
       "Index(['Id', 'TotalSteps', 'Date', 'TotalSleepRecords', 'TotalMinutesAsleep',\n",
       "       'TotalTimeInBed'],\n",
       "      dtype='object')"
      ]
     },
     "execution_count": 384,
     "metadata": {},
     "output_type": "execute_result"
    }
   ],
   "source": [
    "relationship_steps_sleep.columns"
   ]
  },
  {
   "cell_type": "code",
   "execution_count": 386,
   "id": "695d442f",
   "metadata": {},
   "outputs": [
    {
     "data": {
      "image/png": "[encoded data removed]",
      "text/plain": [
       "<Figure size 432x288 with 1 Axes>"
      ]
     },
     "metadata": {
      "needs_background": "light"
     },
     "output_type": "display_data"
    }
   ],
   "source": [
    "import seaborn as sns\n",
    "\n",
    "# create scatter plot\n",
    "sns.scatterplot(x='TotalMinutesAsleep', y='TotalSteps', data=relationship_steps_sleep)\n",
    "# calculate correlation coefficient\n",
    "corr_coef = relationship_steps_sleep['TotalMinutesAsleep'].corr(relationship_steps_sleep['TotalSteps'])\n",
    "\n",
    "# add correlation coefficient to plot\n",
    "plt.annotate('Correlation coefficient = {:.2f}'.format(corr_coef), \n",
    "             xy=(0.5, 0.9), xycoords='axes fraction', fontsize=12)\n",
    "\n",
    "# add axis labels and title\n",
    "plt.xlabel('Total Minutes Asleep')\n",
    "plt.ylabel('Total Steps')\n",
    "plt.title('Relationship between Total Minutes Asleep and Total Steps')\n",
    "\n",
    "# display plot\n",
    "plt.show()\n",
    "\n",
    "# display plot\n",
    "plt.show()\n"
   ]
  },
  {
   "cell_type": "code",
   "execution_count": null,
   "id": "9fa862b9",
   "metadata": {},
   "outputs": [],
   "source": []
  },
  {
   "cell_type": "code",
   "execution_count": null,
   "id": "bb598b9b",
   "metadata": {},
   "outputs": [],
   "source": []
  }
 ],
 "metadata": {
  "hide_input": false,
  "kernelspec": {
   "display_name": "Python 3",
   "language": "python",
   "name": "python3"
  },
  "language_info": {
   "codemirror_mode": {
    "name": "ipython",
    "version": 3
   },
   "file_extension": ".py",
   "mimetype": "text/x-python",
   "name": "python",
   "nbconvert_exporter": "python",
   "pygments_lexer": "ipython3",
   "version": "3.8.8"
  }
 },
 "nbformat": 4,
 "nbformat_minor": 5
}
